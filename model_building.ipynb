{
 "cells": [
  {
   "cell_type": "markdown",
   "metadata": {},
   "source": [
    "Build a regression model."
   ]
  },
  {
   "cell_type": "code",
   "execution_count": 23,
   "metadata": {},
   "outputs": [],
   "source": [
    "import pandas as pd\n",
    "import seaborn as sns\n",
    "import matplotlib.pyplot as plt\n",
    "import statsmodels.api as sm  "
   ]
  },
  {
   "cell_type": "markdown",
   "metadata": {},
   "source": [
    "Provide model output and an interpretation of the results. "
   ]
  },
  {
   "cell_type": "code",
   "execution_count": 24,
   "metadata": {},
   "outputs": [],
   "source": [
    "#Path for the csv model dataset\n",
    "csv_file_path = \"../Downloads/allcolumns.csv\"\n",
    "\n",
    "# Save the DataFrame to CSV\n",
    "columns_set.to_csv(csv_file_path, index=False)  "
   ]
  },
  {
   "cell_type": "code",
   "execution_count": 25,
   "metadata": {},
   "outputs": [
    {
     "data": {
      "text/html": [
       "<div>\n",
       "<style scoped>\n",
       "    .dataframe tbody tr th:only-of-type {\n",
       "        vertical-align: middle;\n",
       "    }\n",
       "\n",
       "    .dataframe tbody tr th {\n",
       "        vertical-align: top;\n",
       "    }\n",
       "\n",
       "    .dataframe thead th {\n",
       "        text-align: right;\n",
       "    }\n",
       "</style>\n",
       "<table border=\"1\" class=\"dataframe\">\n",
       "  <thead>\n",
       "    <tr style=\"text-align: right;\">\n",
       "      <th></th>\n",
       "      <th>Average_rating_F</th>\n",
       "      <th>Average_dist_F</th>\n",
       "      <th>Average_rating_Y</th>\n",
       "      <th>Average_distance_Y</th>\n",
       "      <th>Number of Bikes</th>\n",
       "    </tr>\n",
       "  </thead>\n",
       "  <tbody>\n",
       "    <tr>\n",
       "      <th>0</th>\n",
       "      <td>8.95</td>\n",
       "      <td>672.1</td>\n",
       "      <td>4.45</td>\n",
       "      <td>1095.135294</td>\n",
       "      <td>20</td>\n",
       "    </tr>\n",
       "    <tr>\n",
       "      <th>1</th>\n",
       "      <td>8.39</td>\n",
       "      <td>840.8</td>\n",
       "      <td>4.45</td>\n",
       "      <td>1095.135294</td>\n",
       "      <td>1</td>\n",
       "    </tr>\n",
       "    <tr>\n",
       "      <th>2</th>\n",
       "      <td>8.66</td>\n",
       "      <td>711.7</td>\n",
       "      <td>4.45</td>\n",
       "      <td>1095.135294</td>\n",
       "      <td>10</td>\n",
       "    </tr>\n",
       "    <tr>\n",
       "      <th>3</th>\n",
       "      <td>8.78</td>\n",
       "      <td>549.4</td>\n",
       "      <td>4.45</td>\n",
       "      <td>1095.135294</td>\n",
       "      <td>2</td>\n",
       "    </tr>\n",
       "    <tr>\n",
       "      <th>4</th>\n",
       "      <td>9.23</td>\n",
       "      <td>760.7</td>\n",
       "      <td>4.45</td>\n",
       "      <td>1095.135294</td>\n",
       "      <td>0</td>\n",
       "    </tr>\n",
       "    <tr>\n",
       "      <th>...</th>\n",
       "      <td>...</td>\n",
       "      <td>...</td>\n",
       "      <td>...</td>\n",
       "      <td>...</td>\n",
       "      <td>...</td>\n",
       "    </tr>\n",
       "    <tr>\n",
       "      <th>498</th>\n",
       "      <td>8.03</td>\n",
       "      <td>562.5</td>\n",
       "      <td>4.45</td>\n",
       "      <td>1095.135294</td>\n",
       "      <td>6</td>\n",
       "    </tr>\n",
       "    <tr>\n",
       "      <th>499</th>\n",
       "      <td>8.74</td>\n",
       "      <td>480.8</td>\n",
       "      <td>4.45</td>\n",
       "      <td>1095.135294</td>\n",
       "      <td>14</td>\n",
       "    </tr>\n",
       "    <tr>\n",
       "      <th>500</th>\n",
       "      <td>9.18</td>\n",
       "      <td>646.4</td>\n",
       "      <td>4.45</td>\n",
       "      <td>1095.135294</td>\n",
       "      <td>35</td>\n",
       "    </tr>\n",
       "    <tr>\n",
       "      <th>501</th>\n",
       "      <td>8.49</td>\n",
       "      <td>651.6</td>\n",
       "      <td>4.45</td>\n",
       "      <td>1095.135294</td>\n",
       "      <td>24</td>\n",
       "    </tr>\n",
       "    <tr>\n",
       "      <th>502</th>\n",
       "      <td>9.01</td>\n",
       "      <td>658.7</td>\n",
       "      <td>4.45</td>\n",
       "      <td>1095.135294</td>\n",
       "      <td>0</td>\n",
       "    </tr>\n",
       "  </tbody>\n",
       "</table>\n",
       "<p>503 rows × 5 columns</p>\n",
       "</div>"
      ],
      "text/plain": [
       "     Average_rating_F  Average_dist_F  Average_rating_Y  Average_distance_Y   \n",
       "0                8.95           672.1              4.45         1095.135294  \\\n",
       "1                8.39           840.8              4.45         1095.135294   \n",
       "2                8.66           711.7              4.45         1095.135294   \n",
       "3                8.78           549.4              4.45         1095.135294   \n",
       "4                9.23           760.7              4.45         1095.135294   \n",
       "..                ...             ...               ...                 ...   \n",
       "498              8.03           562.5              4.45         1095.135294   \n",
       "499              8.74           480.8              4.45         1095.135294   \n",
       "500              9.18           646.4              4.45         1095.135294   \n",
       "501              8.49           651.6              4.45         1095.135294   \n",
       "502              9.01           658.7              4.45         1095.135294   \n",
       "\n",
       "     Number of Bikes  \n",
       "0                 20  \n",
       "1                  1  \n",
       "2                 10  \n",
       "3                  2  \n",
       "4                  0  \n",
       "..               ...  \n",
       "498                6  \n",
       "499               14  \n",
       "500               35  \n",
       "501               24  \n",
       "502                0  \n",
       "\n",
       "[503 rows x 5 columns]"
      ]
     },
     "execution_count": 25,
     "metadata": {},
     "output_type": "execute_result"
    }
   ],
   "source": [
    "columns_set = pd.read_csv(\"../Downloads/allcolumns.csv\")\n",
    "columns_set "
   ]
  },
  {
   "cell_type": "code",
   "execution_count": 55,
   "metadata": {},
   "outputs": [
    {
     "data": {
      "text/html": [
       "<div>\n",
       "<style scoped>\n",
       "    .dataframe tbody tr th:only-of-type {\n",
       "        vertical-align: middle;\n",
       "    }\n",
       "\n",
       "    .dataframe tbody tr th {\n",
       "        vertical-align: top;\n",
       "    }\n",
       "\n",
       "    .dataframe thead th {\n",
       "        text-align: right;\n",
       "    }\n",
       "</style>\n",
       "<table border=\"1\" class=\"dataframe\">\n",
       "  <thead>\n",
       "    <tr style=\"text-align: right;\">\n",
       "      <th></th>\n",
       "      <th>Average_rating_F</th>\n",
       "      <th>Average_dist_F</th>\n",
       "      <th>Average_rating_Y</th>\n",
       "      <th>Average_distance_Y</th>\n",
       "      <th>Number of Bikes</th>\n",
       "    </tr>\n",
       "  </thead>\n",
       "  <tbody>\n",
       "    <tr>\n",
       "      <th>Average_rating_F</th>\n",
       "      <td>1.000000</td>\n",
       "      <td>-0.033493</td>\n",
       "      <td>0.0</td>\n",
       "      <td>0.0</td>\n",
       "      <td>-0.010729</td>\n",
       "    </tr>\n",
       "    <tr>\n",
       "      <th>Average_dist_F</th>\n",
       "      <td>-0.033493</td>\n",
       "      <td>1.000000</td>\n",
       "      <td>0.0</td>\n",
       "      <td>0.0</td>\n",
       "      <td>-0.055675</td>\n",
       "    </tr>\n",
       "    <tr>\n",
       "      <th>Average_rating_Y</th>\n",
       "      <td>0.000000</td>\n",
       "      <td>0.000000</td>\n",
       "      <td>0.0</td>\n",
       "      <td>0.0</td>\n",
       "      <td>0.000000</td>\n",
       "    </tr>\n",
       "    <tr>\n",
       "      <th>Average_distance_Y</th>\n",
       "      <td>0.000000</td>\n",
       "      <td>0.000000</td>\n",
       "      <td>0.0</td>\n",
       "      <td>0.0</td>\n",
       "      <td>0.000000</td>\n",
       "    </tr>\n",
       "    <tr>\n",
       "      <th>Number of Bikes</th>\n",
       "      <td>-0.010729</td>\n",
       "      <td>-0.055675</td>\n",
       "      <td>0.0</td>\n",
       "      <td>0.0</td>\n",
       "      <td>1.000000</td>\n",
       "    </tr>\n",
       "  </tbody>\n",
       "</table>\n",
       "</div>"
      ],
      "text/plain": [
       "                    Average_rating_F  Average_dist_F  Average_rating_Y   \n",
       "Average_rating_F            1.000000       -0.033493               0.0  \\\n",
       "Average_dist_F             -0.033493        1.000000               0.0   \n",
       "Average_rating_Y            0.000000        0.000000               0.0   \n",
       "Average_distance_Y          0.000000        0.000000               0.0   \n",
       "Number of Bikes            -0.010729       -0.055675               0.0   \n",
       "\n",
       "                    Average_distance_Y  Number of Bikes  \n",
       "Average_rating_F                   0.0        -0.010729  \n",
       "Average_dist_F                     0.0        -0.055675  \n",
       "Average_rating_Y                   0.0         0.000000  \n",
       "Average_distance_Y                 0.0         0.000000  \n",
       "Number of Bikes                    0.0         1.000000  "
      ]
     },
     "execution_count": 55,
     "metadata": {},
     "output_type": "execute_result"
    }
   ],
   "source": [
    "correlation_matrix = columns_set.corr(numeric_only=True)\n",
    "correlation_matrix \n",
    "correlation_matrix = correlation_matrix.fillna(0) \n",
    "correlation_matrix    "
   ]
  },
  {
   "cell_type": "raw",
   "metadata": {},
   "source": [
    "#Caveat: Yelp API data requires revision: Ran out of API code."
   ]
  },
  {
   "cell_type": "code",
   "execution_count": 56,
   "metadata": {},
   "outputs": [
    {
     "data": {
      "text/html": [
       "<div>\n",
       "<style scoped>\n",
       "    .dataframe tbody tr th:only-of-type {\n",
       "        vertical-align: middle;\n",
       "    }\n",
       "\n",
       "    .dataframe tbody tr th {\n",
       "        vertical-align: top;\n",
       "    }\n",
       "\n",
       "    .dataframe thead th {\n",
       "        text-align: right;\n",
       "    }\n",
       "</style>\n",
       "<table border=\"1\" class=\"dataframe\">\n",
       "  <thead>\n",
       "    <tr style=\"text-align: right;\">\n",
       "      <th></th>\n",
       "      <th>const</th>\n",
       "      <th>Average_distance_Y</th>\n",
       "      <th>Average_rating_F</th>\n",
       "      <th>Average_dist_F</th>\n",
       "    </tr>\n",
       "  </thead>\n",
       "  <tbody>\n",
       "    <tr>\n",
       "      <th>Average_rating_F</th>\n",
       "      <td>1.0</td>\n",
       "      <td>0.0</td>\n",
       "      <td>1.000000</td>\n",
       "      <td>-0.033493</td>\n",
       "    </tr>\n",
       "    <tr>\n",
       "      <th>Average_dist_F</th>\n",
       "      <td>1.0</td>\n",
       "      <td>0.0</td>\n",
       "      <td>-0.033493</td>\n",
       "      <td>1.000000</td>\n",
       "    </tr>\n",
       "    <tr>\n",
       "      <th>Average_rating_Y</th>\n",
       "      <td>1.0</td>\n",
       "      <td>0.0</td>\n",
       "      <td>0.000000</td>\n",
       "      <td>0.000000</td>\n",
       "    </tr>\n",
       "    <tr>\n",
       "      <th>Average_distance_Y</th>\n",
       "      <td>1.0</td>\n",
       "      <td>0.0</td>\n",
       "      <td>0.000000</td>\n",
       "      <td>0.000000</td>\n",
       "    </tr>\n",
       "    <tr>\n",
       "      <th>Number of Bikes</th>\n",
       "      <td>1.0</td>\n",
       "      <td>0.0</td>\n",
       "      <td>-0.010729</td>\n",
       "      <td>-0.055675</td>\n",
       "    </tr>\n",
       "  </tbody>\n",
       "</table>\n",
       "</div>"
      ],
      "text/plain": [
       "                    const  Average_distance_Y  Average_rating_F   \n",
       "Average_rating_F      1.0                 0.0          1.000000  \\\n",
       "Average_dist_F        1.0                 0.0         -0.033493   \n",
       "Average_rating_Y      1.0                 0.0          0.000000   \n",
       "Average_distance_Y    1.0                 0.0          0.000000   \n",
       "Number of Bikes       1.0                 0.0         -0.010729   \n",
       "\n",
       "                    Average_dist_F  \n",
       "Average_rating_F         -0.033493  \n",
       "Average_dist_F            1.000000  \n",
       "Average_rating_Y          0.000000  \n",
       "Average_distance_Y        0.000000  \n",
       "Number of Bikes          -0.055675  "
      ]
     },
     "execution_count": 56,
     "metadata": {},
     "output_type": "execute_result"
    }
   ],
   "source": [
    "y = correlation_matrix['Number of Bikes']\n",
    "X = correlation_matrix[['Average_distance_Y', 'Average_rating_F', 'Average_dist_F']]\n",
    "X = sm.add_constant(X)  # to get a column of 1's as the intercept\n",
    "X.head()         "
   ]
  },
  {
   "cell_type": "code",
   "execution_count": 58,
   "metadata": {},
   "outputs": [
    {
     "name": "stdout",
     "output_type": "stream",
     "text": [
      "                            OLS Regression Results                            \n",
      "==============================================================================\n",
      "Dep. Variable:        Number of Bikes   R-squared:                       0.239\n",
      "Model:                            OLS   Adj. R-squared:                 -0.523\n",
      "Method:                 Least Squares   F-statistic:                    0.3135\n",
      "Date:                Tue, 26 Sep 2023   Prob (F-statistic):              0.761\n",
      "Time:                        07:19:10   Log-Likelihood:                -1.9201\n",
      "No. Observations:                   5   AIC:                             9.840\n",
      "Df Residuals:                       2   BIC:                             8.669\n",
      "Df Model:                           2                                         \n",
      "Covariance Type:            nonrobust                                         \n",
      "======================================================================================\n",
      "                         coef    std err          t      P>|t|      [0.025      0.975]\n",
      "--------------------------------------------------------------------------------------\n",
      "const                  0.3383      0.317      1.067      0.398      -1.026       1.703\n",
      "Average_distance_Y -7.758e-17   9.87e-17     -0.786      0.514   -5.02e-16    3.47e-16\n",
      "Average_rating_F      -0.3718      0.649     -0.573      0.624      -3.163       2.420\n",
      "Average_dist_F        -0.4419      0.641     -0.689      0.562      -3.200       2.317\n",
      "==============================================================================\n",
      "Omnibus:                          nan   Durbin-Watson:                   1.718\n",
      "Prob(Omnibus):                    nan   Jarque-Bera (JB):                0.605\n",
      "Skew:                           0.787   Prob(JB):                        0.739\n",
      "Kurtosis:                       2.346   Cond. No.                     6.74e+16\n",
      "==============================================================================\n",
      "\n",
      "Notes:\n",
      "[1] Standard Errors assume that the covariance matrix of the errors is correctly specified.\n",
      "[2] The smallest eigenvalue is 1.19e-33. This might indicate that there are\n",
      "strong multicollinearity problems or that the design matrix is singular.\n"
     ]
    },
    {
     "name": "stderr",
     "output_type": "stream",
     "text": [
      "/opt/anaconda3/lib/python3.9/site-packages/statsmodels/stats/stattools.py:74: ValueWarning: omni_normtest is not valid with less than 8 observations; 5 samples were given.\n",
      "  warn(\"omni_normtest is not valid with less than 8 observations; %i \"\n"
     ]
    }
   ],
   "source": [
    "model = sm.OLS(y, X)\n",
    "results = model.fit() #fit the model (for ordinary least squares (OLS) is run) \n",
    "print(results.summary())          "
   ]
  },
  {
   "cell_type": "code",
   "execution_count": null,
   "metadata": {},
   "outputs": [],
   "source": [
    "# Interpretation Summary\n",
    "Overall, the model suggests that the characteristics of the POIs do not show statistically significant impact on the estimated Number of bikes for a given station. \n",
    "\n",
    "However the Adj. R-squared indicating the goodness of fit of the model shows that 50% of the variability in Number of bikes can be explained by the independent variables."
   ]
  },
  {
   "cell_type": "code",
   "execution_count": 45,
   "metadata": {},
   "outputs": [
    {
     "data": {
      "image/png": "[encoded data removed]",
      "text/plain": [
       "<Figure size 640x480 with 1 Axes>"
      ]
     },
     "metadata": {},
     "output_type": "display_data"
    }
   ],
   "source": [
    "residuals = results.resid\n",
    "\n",
    "sns.histplot(residuals)\n",
    "plt.show()   "
   ]
  },
  {
   "cell_type": "code",
   "execution_count": 59,
   "metadata": {},
   "outputs": [
    {
     "data": {
      "text/plain": [
       "const                 3.383010e-01\n",
       "Average_distance_Y   -7.757713e-17\n",
       "Average_rating_F     -3.718136e-01\n",
       "Average_dist_F       -4.419444e-01\n",
       "dtype: float64"
      ]
     },
     "execution_count": 59,
     "metadata": {},
     "output_type": "execute_result"
    }
   ],
   "source": [
    "# To extract the co-efficients\n",
    "results.params   "
   ]
  },
  {
   "cell_type": "code",
   "execution_count": 60,
   "metadata": {},
   "outputs": [
    {
     "data": {
      "text/plain": [
       "-356.5635802608331"
      ]
     },
     "execution_count": 60,
     "metadata": {},
     "output_type": "execute_result"
    }
   ],
   "source": [
    "# The model equation for prediction is: number_of_bikes = b0 + b1*known_distance_Y + b2*known_rating + b3*known_dist_F\n",
    "b0 = results.params['const']\n",
    "b1 = results.params['Average_distance_Y']\n",
    "b2 = results.params['Average_rating_F']\n",
    "b3 = results.params['Average_dist_F']\n",
    "\n",
    "#For\n",
    "known_distance_Y = 900\n",
    "known_rating = 9\n",
    "known_dist_F = 800\n",
    "predicted_num_bikes = b0 + b1*known_distance_Y + b2*known_rating + b3*known_dist_F #where 1 is fitted constant\n",
    "predicted_num_bikes   \n",
    " \n",
    " "
   ]
  },
  {
   "cell_type": "markdown",
   "metadata": {},
   "source": [
    "# Stretch"
   ]
  },
  {
   "cell_type": "markdown",
   "metadata": {},
   "source": [
    "How can you turn the regression model into a classification model?"
   ]
  },
  {
   "cell_type": "code",
   "execution_count": null,
   "metadata": {},
   "outputs": [],
   "source": []
  }
 ],
 "metadata": {
  "kernelspec": {
   "display_name": "Python 3 (ipykernel)",
   "language": "python",
   "name": "python3"
  },
  "language_info": {
   "codemirror_mode": {
    "name": "ipython",
    "version": 3
   },
   "file_extension": ".py",
   "mimetype": "text/x-python",
   "name": "python",
   "nbconvert_exporter": "python",
   "pygments_lexer": "ipython3",
   "version": "3.9.18"
  }
 },
 "nbformat": 4,
 "nbformat_minor": 4
}
