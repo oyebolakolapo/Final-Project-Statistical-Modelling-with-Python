{
 "cells": [
  {
   "cell_type": "markdown",
   "metadata": {},
   "source": [
    "Build a regression model."
   ]
  },
  {
   "cell_type": "code",
   "execution_count": 61,
   "metadata": {},
   "outputs": [],
   "source": [
    "import pandas as pd\n",
    "import seaborn as sns\n",
    "import matplotlib.pyplot as plt\n",
    "import statsmodels.api as sm   "
   ]
  },
  {
   "cell_type": "markdown",
   "metadata": {},
   "source": [
    "Provide model output and an interpretation of the results. "
   ]
  },
  {
   "cell_type": "code",
   "execution_count": 62,
   "metadata": {},
   "outputs": [],
   "source": [
    "#Path for the csv model dataset\n",
    "csv_file_path = \"../Downloads/allcolumns.csv\"\n",
    "\n",
    "# Save the DataFrame to CSV\n",
    "columns_set.to_csv(csv_file_path, index=False)   "
   ]
  },
  {
   "cell_type": "code",
   "execution_count": 65,
   "metadata": {},
   "outputs": [
    {
     "data": {
      "text/html": [
       "<div>\n",
       "<style scoped>\n",
       "    .dataframe tbody tr th:only-of-type {\n",
       "        vertical-align: middle;\n",
       "    }\n",
       "\n",
       "    .dataframe tbody tr th {\n",
       "        vertical-align: top;\n",
       "    }\n",
       "\n",
       "    .dataframe thead th {\n",
       "        text-align: right;\n",
       "    }\n",
       "</style>\n",
       "<table border=\"1\" class=\"dataframe\">\n",
       "  <thead>\n",
       "    <tr style=\"text-align: right;\">\n",
       "      <th></th>\n",
       "      <th>Average_rating_F</th>\n",
       "      <th>Average_dist_F</th>\n",
       "      <th>Average_popularity_F</th>\n",
       "      <th>Number of Bikes</th>\n",
       "    </tr>\n",
       "  </thead>\n",
       "  <tbody>\n",
       "    <tr>\n",
       "      <th>0</th>\n",
       "      <td>8.95</td>\n",
       "      <td>672.1</td>\n",
       "      <td>0.989190</td>\n",
       "      <td>20</td>\n",
       "    </tr>\n",
       "    <tr>\n",
       "      <th>1</th>\n",
       "      <td>8.39</td>\n",
       "      <td>840.8</td>\n",
       "      <td>0.832867</td>\n",
       "      <td>1</td>\n",
       "    </tr>\n",
       "    <tr>\n",
       "      <th>2</th>\n",
       "      <td>8.66</td>\n",
       "      <td>711.7</td>\n",
       "      <td>0.979793</td>\n",
       "      <td>10</td>\n",
       "    </tr>\n",
       "    <tr>\n",
       "      <th>3</th>\n",
       "      <td>8.78</td>\n",
       "      <td>549.4</td>\n",
       "      <td>0.965750</td>\n",
       "      <td>2</td>\n",
       "    </tr>\n",
       "    <tr>\n",
       "      <th>4</th>\n",
       "      <td>9.23</td>\n",
       "      <td>760.7</td>\n",
       "      <td>0.989222</td>\n",
       "      <td>0</td>\n",
       "    </tr>\n",
       "    <tr>\n",
       "      <th>...</th>\n",
       "      <td>...</td>\n",
       "      <td>...</td>\n",
       "      <td>...</td>\n",
       "      <td>...</td>\n",
       "    </tr>\n",
       "    <tr>\n",
       "      <th>501</th>\n",
       "      <td>8.03</td>\n",
       "      <td>562.5</td>\n",
       "      <td>0.845017</td>\n",
       "      <td>6</td>\n",
       "    </tr>\n",
       "    <tr>\n",
       "      <th>502</th>\n",
       "      <td>8.74</td>\n",
       "      <td>480.8</td>\n",
       "      <td>0.956308</td>\n",
       "      <td>14</td>\n",
       "    </tr>\n",
       "    <tr>\n",
       "      <th>503</th>\n",
       "      <td>9.18</td>\n",
       "      <td>646.4</td>\n",
       "      <td>0.988085</td>\n",
       "      <td>35</td>\n",
       "    </tr>\n",
       "    <tr>\n",
       "      <th>504</th>\n",
       "      <td>8.49</td>\n",
       "      <td>651.6</td>\n",
       "      <td>0.970252</td>\n",
       "      <td>24</td>\n",
       "    </tr>\n",
       "    <tr>\n",
       "      <th>505</th>\n",
       "      <td>9.01</td>\n",
       "      <td>658.7</td>\n",
       "      <td>0.972727</td>\n",
       "      <td>0</td>\n",
       "    </tr>\n",
       "  </tbody>\n",
       "</table>\n",
       "<p>506 rows × 4 columns</p>\n",
       "</div>"
      ],
      "text/plain": [
       "     Average_rating_F  Average_dist_F  Average_popularity_F  Number of Bikes\n",
       "0                8.95           672.1              0.989190               20\n",
       "1                8.39           840.8              0.832867                1\n",
       "2                8.66           711.7              0.979793               10\n",
       "3                8.78           549.4              0.965750                2\n",
       "4                9.23           760.7              0.989222                0\n",
       "..                ...             ...                   ...              ...\n",
       "501              8.03           562.5              0.845017                6\n",
       "502              8.74           480.8              0.956308               14\n",
       "503              9.18           646.4              0.988085               35\n",
       "504              8.49           651.6              0.970252               24\n",
       "505              9.01           658.7              0.972727                0\n",
       "\n",
       "[506 rows x 4 columns]"
      ]
     },
     "execution_count": 65,
     "metadata": {},
     "output_type": "execute_result"
    }
   ],
   "source": [
    "columns_set = pd.read_csv(\"../Downloads/allcolumns.csv\")\n",
    "columns_set   "
   ]
  },
  {
   "cell_type": "code",
   "execution_count": 66,
   "metadata": {},
   "outputs": [
    {
     "data": {
      "text/html": [
       "<div>\n",
       "<style scoped>\n",
       "    .dataframe tbody tr th:only-of-type {\n",
       "        vertical-align: middle;\n",
       "    }\n",
       "\n",
       "    .dataframe tbody tr th {\n",
       "        vertical-align: top;\n",
       "    }\n",
       "\n",
       "    .dataframe thead th {\n",
       "        text-align: right;\n",
       "    }\n",
       "</style>\n",
       "<table border=\"1\" class=\"dataframe\">\n",
       "  <thead>\n",
       "    <tr style=\"text-align: right;\">\n",
       "      <th></th>\n",
       "      <th>Average_rating_F</th>\n",
       "      <th>Average_dist_F</th>\n",
       "      <th>Average_popularity_F</th>\n",
       "      <th>Number of Bikes</th>\n",
       "    </tr>\n",
       "  </thead>\n",
       "  <tbody>\n",
       "    <tr>\n",
       "      <th>Average_rating_F</th>\n",
       "      <td>1.000000</td>\n",
       "      <td>-0.033493</td>\n",
       "      <td>0.609697</td>\n",
       "      <td>-0.010729</td>\n",
       "    </tr>\n",
       "    <tr>\n",
       "      <th>Average_dist_F</th>\n",
       "      <td>-0.033493</td>\n",
       "      <td>1.000000</td>\n",
       "      <td>0.011345</td>\n",
       "      <td>-0.055806</td>\n",
       "    </tr>\n",
       "    <tr>\n",
       "      <th>Average_popularity_F</th>\n",
       "      <td>0.609697</td>\n",
       "      <td>0.011345</td>\n",
       "      <td>1.000000</td>\n",
       "      <td>0.121143</td>\n",
       "    </tr>\n",
       "    <tr>\n",
       "      <th>Number of Bikes</th>\n",
       "      <td>-0.010729</td>\n",
       "      <td>-0.055806</td>\n",
       "      <td>0.121143</td>\n",
       "      <td>1.000000</td>\n",
       "    </tr>\n",
       "  </tbody>\n",
       "</table>\n",
       "</div>"
      ],
      "text/plain": [
       "                      Average_rating_F  Average_dist_F  Average_popularity_F   \n",
       "Average_rating_F              1.000000       -0.033493              0.609697  \\\n",
       "Average_dist_F               -0.033493        1.000000              0.011345   \n",
       "Average_popularity_F          0.609697        0.011345              1.000000   \n",
       "Number of Bikes              -0.010729       -0.055806              0.121143   \n",
       "\n",
       "                      Number of Bikes  \n",
       "Average_rating_F            -0.010729  \n",
       "Average_dist_F              -0.055806  \n",
       "Average_popularity_F         0.121143  \n",
       "Number of Bikes              1.000000  "
      ]
     },
     "execution_count": 66,
     "metadata": {},
     "output_type": "execute_result"
    }
   ],
   "source": [
    "correlation_matrix = columns_set.corr(numeric_only=True)\n",
    "#correlation_matrix \n",
    "#correlation_matrix = correlation_matrix.fillna(0) \n",
    "correlation_matrix      "
   ]
  },
  {
   "cell_type": "raw",
   "metadata": {},
   "source": [
    "#Caveat: Yelp API data requires revision: Ran out of API code."
   ]
  },
  {
   "cell_type": "code",
   "execution_count": 68,
   "metadata": {},
   "outputs": [
    {
     "data": {
      "text/html": [
       "<div>\n",
       "<style scoped>\n",
       "    .dataframe tbody tr th:only-of-type {\n",
       "        vertical-align: middle;\n",
       "    }\n",
       "\n",
       "    .dataframe tbody tr th {\n",
       "        vertical-align: top;\n",
       "    }\n",
       "\n",
       "    .dataframe thead th {\n",
       "        text-align: right;\n",
       "    }\n",
       "</style>\n",
       "<table border=\"1\" class=\"dataframe\">\n",
       "  <thead>\n",
       "    <tr style=\"text-align: right;\">\n",
       "      <th></th>\n",
       "      <th>const</th>\n",
       "      <th>Average_popularity_F</th>\n",
       "      <th>Average_rating_F</th>\n",
       "      <th>Average_dist_F</th>\n",
       "    </tr>\n",
       "  </thead>\n",
       "  <tbody>\n",
       "    <tr>\n",
       "      <th>Average_rating_F</th>\n",
       "      <td>1.0</td>\n",
       "      <td>0.609697</td>\n",
       "      <td>1.000000</td>\n",
       "      <td>-0.033493</td>\n",
       "    </tr>\n",
       "    <tr>\n",
       "      <th>Average_dist_F</th>\n",
       "      <td>1.0</td>\n",
       "      <td>0.011345</td>\n",
       "      <td>-0.033493</td>\n",
       "      <td>1.000000</td>\n",
       "    </tr>\n",
       "    <tr>\n",
       "      <th>Average_popularity_F</th>\n",
       "      <td>1.0</td>\n",
       "      <td>1.000000</td>\n",
       "      <td>0.609697</td>\n",
       "      <td>0.011345</td>\n",
       "    </tr>\n",
       "    <tr>\n",
       "      <th>Number of Bikes</th>\n",
       "      <td>1.0</td>\n",
       "      <td>0.121143</td>\n",
       "      <td>-0.010729</td>\n",
       "      <td>-0.055806</td>\n",
       "    </tr>\n",
       "  </tbody>\n",
       "</table>\n",
       "</div>"
      ],
      "text/plain": [
       "                      const  Average_popularity_F  Average_rating_F   \n",
       "Average_rating_F        1.0              0.609697          1.000000  \\\n",
       "Average_dist_F          1.0              0.011345         -0.033493   \n",
       "Average_popularity_F    1.0              1.000000          0.609697   \n",
       "Number of Bikes         1.0              0.121143         -0.010729   \n",
       "\n",
       "                      Average_dist_F  \n",
       "Average_rating_F           -0.033493  \n",
       "Average_dist_F              1.000000  \n",
       "Average_popularity_F        0.011345  \n",
       "Number of Bikes            -0.055806  "
      ]
     },
     "execution_count": 68,
     "metadata": {},
     "output_type": "execute_result"
    }
   ],
   "source": [
    "y = correlation_matrix['Number of Bikes']\n",
    "X = correlation_matrix[['Average_popularity_F', 'Average_rating_F', 'Average_dist_F']]\n",
    "X = sm.add_constant(X)  # to get a column of 1's as the intercept\n",
    "X.head()           "
   ]
  },
  {
   "cell_type": "code",
   "execution_count": 69,
   "metadata": {},
   "outputs": [
    {
     "name": "stdout",
     "output_type": "stream",
     "text": [
      "                            OLS Regression Results                            \n",
      "==============================================================================\n",
      "Dep. Variable:        Number of Bikes   R-squared:                       1.000\n",
      "Model:                            OLS   Adj. R-squared:                    nan\n",
      "Method:                 Least Squares   F-statistic:                       nan\n",
      "Date:                Tue, 26 Sep 2023   Prob (F-statistic):                nan\n",
      "Time:                        10:19:49   Log-Likelihood:                 137.95\n",
      "No. Observations:                   4   AIC:                            -267.9\n",
      "Df Residuals:                       0   BIC:                            -270.4\n",
      "Df Model:                           3                                         \n",
      "Covariance Type:            nonrobust                                         \n",
      "========================================================================================\n",
      "                           coef    std err          t      P>|t|      [0.025      0.975]\n",
      "----------------------------------------------------------------------------------------\n",
      "const                    0.9748        inf          0        nan         nan         nan\n",
      "Average_popularity_F    -0.3491        inf         -0        nan         nan         nan\n",
      "Average_rating_F        -0.8080        inf         -0        nan         nan         nan\n",
      "Average_dist_F          -1.0537        inf         -0        nan         nan         nan\n",
      "==============================================================================\n",
      "Omnibus:                          nan   Durbin-Watson:                   0.896\n",
      "Prob(Omnibus):                    nan   Jarque-Bera (JB):                0.366\n",
      "Skew:                           0.417   Prob(JB):                        0.833\n",
      "Kurtosis:                       1.774   Cond. No.                         6.25\n",
      "==============================================================================\n",
      "\n",
      "Notes:\n",
      "[1] Standard Errors assume that the covariance matrix of the errors is correctly specified.\n"
     ]
    },
    {
     "name": "stderr",
     "output_type": "stream",
     "text": [
      "/opt/anaconda3/lib/python3.9/site-packages/statsmodels/stats/stattools.py:74: ValueWarning: omni_normtest is not valid with less than 8 observations; 4 samples were given.\n",
      "  warn(\"omni_normtest is not valid with less than 8 observations; %i \"\n",
      "/opt/anaconda3/lib/python3.9/site-packages/statsmodels/regression/linear_model.py:1794: RuntimeWarning: divide by zero encountered in divide\n",
      "  return 1 - (np.divide(self.nobs - self.k_constant, self.df_resid)\n",
      "/opt/anaconda3/lib/python3.9/site-packages/statsmodels/regression/linear_model.py:1794: RuntimeWarning: invalid value encountered in scalar multiply\n",
      "  return 1 - (np.divide(self.nobs - self.k_constant, self.df_resid)\n",
      "/opt/anaconda3/lib/python3.9/site-packages/statsmodels/regression/linear_model.py:1716: RuntimeWarning: divide by zero encountered in scalar divide\n",
      "  return np.dot(wresid, wresid) / self.df_resid\n"
     ]
    }
   ],
   "source": [
    "model = sm.OLS(y, X)\n",
    "results = model.fit() #fit the model (for ordinary least squares (OLS) is run) \n",
    "print(results.summary())           "
   ]
  },
  {
   "cell_type": "code",
   "execution_count": null,
   "metadata": {},
   "outputs": [],
   "source": [
    "# Interpretation Summary\n",
    "Overall, the model suggests that the characteristics of the POIs show statistically significant impact on the estimated Number of bikes for a given station. \n"
   ]
  },
  {
   "cell_type": "code",
   "execution_count": 70,
   "metadata": {},
   "outputs": [
    {
     "data": {
      "image/png": "[encoded data removed]",
      "text/plain": [
       "<Figure size 640x480 with 1 Axes>"
      ]
     },
     "metadata": {},
     "output_type": "display_data"
    }
   ],
   "source": [
    "residuals = results.resid\n",
    "\n",
    "sns.histplot(residuals)\n",
    "plt.show()    "
   ]
  },
  {
   "cell_type": "code",
   "execution_count": 71,
   "metadata": {},
   "outputs": [
    {
     "data": {
      "text/plain": [
       "const                   0.974815\n",
       "Average_popularity_F   -0.349080\n",
       "Average_rating_F       -0.808003\n",
       "Average_dist_F         -1.053723\n",
       "dtype: float64"
      ]
     },
     "execution_count": 71,
     "metadata": {},
     "output_type": "execute_result"
    }
   ],
   "source": [
    "# To extract the co-efficients\n",
    "results.params    "
   ]
  },
  {
   "cell_type": "code",
   "execution_count": 72,
   "metadata": {},
   "outputs": [
    {
     "data": {
      "text/plain": [
       "-852.4176823673304"
      ]
     },
     "execution_count": 72,
     "metadata": {},
     "output_type": "execute_result"
    }
   ],
   "source": [
    "# The model equation for prediction is: number_of_bikes = b0 + b1*known_distance_Y + b2*known_rating + b3*known_dist_F\n",
    "b0 = results.params['const']\n",
    "b1 = results.params['Average_popularity_F']\n",
    "b2 = results.params['Average_rating_F']\n",
    "b3 = results.params['Average_dist_F']\n",
    "\n",
    "#For\n",
    "known_popularity_F = 9\n",
    "known_rating = 9\n",
    "known_dist_F = 800\n",
    "predicted_num_bikes = b0 + b1*known_popularity_F + b2*known_rating + b3*known_dist_F #where 1 is fitted constant\n",
    "predicted_num_bikes    \n",
    " \n",
    " "
   ]
  },
  {
   "cell_type": "markdown",
   "metadata": {},
   "source": [
    "# Stretch"
   ]
  },
  {
   "cell_type": "markdown",
   "metadata": {},
   "source": [
    "How can you turn the regression model into a classification model?"
   ]
  },
  {
   "cell_type": "code",
   "execution_count": null,
   "metadata": {},
   "outputs": [],
   "source": [
    "We can classify independent variables, rating and popularity, into good, high or very high based on 1-10 scales."
   ]
  }
 ],
 "metadata": {
  "kernelspec": {
   "display_name": "Python 3 (ipykernel)",
   "language": "python",
   "name": "python3"
  },
  "language_info": {
   "codemirror_mode": {
    "name": "ipython",
    "version": 3
   },
   "file_extension": ".py",
   "mimetype": "text/x-python",
   "name": "python",
   "nbconvert_exporter": "python",
   "pygments_lexer": "ipython3",
   "version": "3.9.18"
  }
 },
 "nbformat": 4,
 "nbformat_minor": 4
}
