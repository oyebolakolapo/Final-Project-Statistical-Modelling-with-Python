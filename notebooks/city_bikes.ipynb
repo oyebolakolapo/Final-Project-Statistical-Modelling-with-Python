{
 "cells": [
  {
   "cell_type": "markdown",
   "metadata": {},
   "source": [
    "# CityBikes"
   ]
  },
  {
   "cell_type": "markdown",
   "metadata": {},
   "source": [
    "Send a request to CityBikes for the city of your choice. "
   ]
  },
  {
   "cell_type": "markdown",
   "metadata": {
    "tags": []
   },
   "source": [
    "Part 1: Connecting to CityBikes API\n",
    "\n",
    "import requests\n",
    "import json\n",
    "import pandas as pd\n",
    "import numpy as np\n",
    "import json\n",
    "from pandas import json_normalize \n",
    "response = requests.get('http://api.citybik.es/v2/networks')         "
   ]
  },
  {
   "cell_type": "markdown",
   "metadata": {},
   "source": [
    "Parse through the response to get the details you want for the bike stations in that city (latitude, longitude, number of bikes). "
   ]
  },
  {
   "cell_type": "markdown",
   "metadata": {},
   "source": [
    "Put your parsed results into a DataFrame."
   ]
  },
  {
   "cell_type": "code",
   "execution_count": 1,
   "metadata": {},
   "outputs": [],
   "source": [
    "#Get a CityBikes API for my selected city - Barcelona\n",
    "import requests\n",
    "import json\n",
    "import pandas as pd\n",
    "import numpy as np\n",
    "import json\n",
    "from pandas import json_normalize\n",
    "response_barcelona = requests.get('http://api.citybik.es/v2/networks/bicing')           "
   ]
  },
  {
   "cell_type": "code",
   "execution_count": 2,
   "metadata": {},
   "outputs": [],
   "source": [
    "# Check if the request was successful (a status code 200 should be given)\n",
    "if response_barcelona.status_code != 200:\n",
    "    print(\"Request failed. Status code:\", response_barcelona.status_code)\n",
    "else:\n",
    "    # Parse the JSON response\n",
    "    data = response_barcelona.json()\n",
    "    \n",
    "    # Extract bike stations in Madrid\n",
    "    stations = data['network']['stations']\n",
    "    \n",
    "    # Create lists for extracted details\n",
    "    name = []\n",
    "    latitudes = []\n",
    "    longitudes = []\n",
    "    number_of_bikes = []\n",
    "    \n",
    "    # Iterate through each station and extract details\n",
    "    for station in stations:\n",
    "        name.append(station['name'])\n",
    "        latitudes.append(station['latitude'])\n",
    "        longitudes.append(station['longitude'])\n",
    "        number_of_bikes.append(station['free_bikes'])        "
   ]
  },
  {
   "cell_type": "code",
   "execution_count": 3,
   "metadata": {},
   "outputs": [],
   "source": [
    "# Create a DataFrame with the extracted details\n",
    "df_barcelona = pd.DataFrame({\n",
    "    'Station Name': name,\n",
    "    'Latitude': latitudes,\n",
    "    'Longitude': longitudes,\n",
    "    'Number of Bikes': number_of_bikes\n",
    "})        "
   ]
  },
  {
   "cell_type": "code",
   "execution_count": 4,
   "metadata": {},
   "outputs": [
    {
     "data": {
      "text/html": [
       "<div>\n",
       "<style scoped>\n",
       "    .dataframe tbody tr th:only-of-type {\n",
       "        vertical-align: middle;\n",
       "    }\n",
       "\n",
       "    .dataframe tbody tr th {\n",
       "        vertical-align: top;\n",
       "    }\n",
       "\n",
       "    .dataframe thead th {\n",
       "        text-align: right;\n",
       "    }\n",
       "</style>\n",
       "<table border=\"1\" class=\"dataframe\">\n",
       "  <thead>\n",
       "    <tr style=\"text-align: right;\">\n",
       "      <th></th>\n",
       "      <th>Station Name</th>\n",
       "      <th>Latitude</th>\n",
       "      <th>Longitude</th>\n",
       "      <th>Number of Bikes</th>\n",
       "    </tr>\n",
       "  </thead>\n",
       "  <tbody>\n",
       "    <tr>\n",
       "      <th>0</th>\n",
       "      <td>C/ MARINA, 25-33</td>\n",
       "      <td>41.388125</td>\n",
       "      <td>2.195187</td>\n",
       "      <td>14</td>\n",
       "    </tr>\n",
       "    <tr>\n",
       "      <th>1</th>\n",
       "      <td>C/ MARIE CURIE, 8-14</td>\n",
       "      <td>41.436687</td>\n",
       "      <td>2.169313</td>\n",
       "      <td>8</td>\n",
       "    </tr>\n",
       "    <tr>\n",
       "      <th>2</th>\n",
       "      <td>C/ SELVA DE MAR, 46</td>\n",
       "      <td>41.409135</td>\n",
       "      <td>2.208818</td>\n",
       "      <td>5</td>\n",
       "    </tr>\n",
       "    <tr>\n",
       "      <th>3</th>\n",
       "      <td>AV. DIAGONAL, 652</td>\n",
       "      <td>41.389462</td>\n",
       "      <td>2.131495</td>\n",
       "      <td>0</td>\n",
       "    </tr>\n",
       "    <tr>\n",
       "      <th>4</th>\n",
       "      <td>C/ CÒRSEGA, 216</td>\n",
       "      <td>41.391767</td>\n",
       "      <td>2.153216</td>\n",
       "      <td>0</td>\n",
       "    </tr>\n",
       "    <tr>\n",
       "      <th>...</th>\n",
       "      <td>...</td>\n",
       "      <td>...</td>\n",
       "      <td>...</td>\n",
       "      <td>...</td>\n",
       "    </tr>\n",
       "    <tr>\n",
       "      <th>503</th>\n",
       "      <td>RAMBLA DEL BRASIL, 44</td>\n",
       "      <td>41.378307</td>\n",
       "      <td>2.129730</td>\n",
       "      <td>0</td>\n",
       "    </tr>\n",
       "    <tr>\n",
       "      <th>504</th>\n",
       "      <td>AV. PARAL·LEL, 146 BIS</td>\n",
       "      <td>41.375185</td>\n",
       "      <td>2.159239</td>\n",
       "      <td>23</td>\n",
       "    </tr>\n",
       "    <tr>\n",
       "      <th>505</th>\n",
       "      <td>C/ BERLÍN, 38</td>\n",
       "      <td>41.383261</td>\n",
       "      <td>2.139266</td>\n",
       "      <td>3</td>\n",
       "    </tr>\n",
       "    <tr>\n",
       "      <th>506</th>\n",
       "      <td>C/ DIPUTACIÓ, 226</td>\n",
       "      <td>41.387306</td>\n",
       "      <td>2.163126</td>\n",
       "      <td>6</td>\n",
       "    </tr>\n",
       "    <tr>\n",
       "      <th>507</th>\n",
       "      <td>C/ SANCHO DE ÁVILA, 60-64</td>\n",
       "      <td>41.398754</td>\n",
       "      <td>2.190212</td>\n",
       "      <td>10</td>\n",
       "    </tr>\n",
       "  </tbody>\n",
       "</table>\n",
       "<p>508 rows × 4 columns</p>\n",
       "</div>"
      ],
      "text/plain": [
       "                  Station Name   Latitude  Longitude  Number of Bikes\n",
       "0             C/ MARINA, 25-33  41.388125   2.195187               14\n",
       "1         C/ MARIE CURIE, 8-14  41.436687   2.169313                8\n",
       "2          C/ SELVA DE MAR, 46  41.409135   2.208818                5\n",
       "3            AV. DIAGONAL, 652  41.389462   2.131495                0\n",
       "4              C/ CÒRSEGA, 216  41.391767   2.153216                0\n",
       "..                         ...        ...        ...              ...\n",
       "503      RAMBLA DEL BRASIL, 44  41.378307   2.129730                0\n",
       "504     AV. PARAL·LEL, 146 BIS  41.375185   2.159239               23\n",
       "505              C/ BERLÍN, 38  41.383261   2.139266                3\n",
       "506          C/ DIPUTACIÓ, 226  41.387306   2.163126                6\n",
       "507  C/ SANCHO DE ÁVILA, 60-64  41.398754   2.190212               10\n",
       "\n",
       "[508 rows x 4 columns]"
      ]
     },
     "execution_count": 4,
     "metadata": {},
     "output_type": "execute_result"
    }
   ],
   "source": [
    "df_barcelona         "
   ]
  },
  {
   "cell_type": "code",
   "execution_count": 5,
   "metadata": {},
   "outputs": [],
   "source": [
    "#Copy dataframe to csv in local folder\n",
    "# Save the DataFrame to CSV\n",
    "#df_barcelona.to_csv(\"out_barcelona.csv\", index=False) \n",
    "\n",
    "# Specify the path for the CSV file\n",
    "csv_file_path = \"../Downloads/barcelona_bikes.csv\"\n",
    "\n",
    "# Save DataFrame as CSV\n",
    "df_barcelona.to_csv(csv_file_path, index=False)            "
   ]
  },
  {
   "cell_type": "code",
   "execution_count": 7,
   "metadata": {},
   "outputs": [
    {
     "name": "stdout",
     "output_type": "stream",
     "text": [
      "Duplicate Rows:\n"
     ]
    },
    {
     "data": {
      "text/html": [
       "<div>\n",
       "<style scoped>\n",
       "    .dataframe tbody tr th:only-of-type {\n",
       "        vertical-align: middle;\n",
       "    }\n",
       "\n",
       "    .dataframe tbody tr th {\n",
       "        vertical-align: top;\n",
       "    }\n",
       "\n",
       "    .dataframe thead th {\n",
       "        text-align: right;\n",
       "    }\n",
       "</style>\n",
       "<table border=\"1\" class=\"dataframe\">\n",
       "  <thead>\n",
       "    <tr style=\"text-align: right;\">\n",
       "      <th></th>\n",
       "      <th>Station Name</th>\n",
       "      <th>Latitude</th>\n",
       "      <th>Longitude</th>\n",
       "      <th>Number of Bikes</th>\n",
       "    </tr>\n",
       "  </thead>\n",
       "  <tbody>\n",
       "  </tbody>\n",
       "</table>\n",
       "</div>"
      ],
      "text/plain": [
       "Empty DataFrame\n",
       "Columns: [Station Name, Latitude, Longitude, Number of Bikes]\n",
       "Index: []"
      ]
     },
     "execution_count": 7,
     "metadata": {},
     "output_type": "execute_result"
    }
   ],
   "source": [
    "#check data for duplicates\n",
    "duplicate_rows = df_barcelona[df_barcelona.duplicated()]\n",
    "\n",
    "print(\"Duplicate Rows:\")\n",
    "duplicate_rows   "
   ]
  }
 ],
 "metadata": {
  "kernelspec": {
   "display_name": "Python 3 (ipykernel)",
   "language": "python",
   "name": "python3"
  },
  "language_info": {
   "codemirror_mode": {
    "name": "ipython",
    "version": 3
   },
   "file_extension": ".py",
   "mimetype": "text/x-python",
   "name": "python",
   "nbconvert_exporter": "python",
   "pygments_lexer": "ipython3",
   "version": "3.9.18"
  }
 },
 "nbformat": 4,
 "nbformat_minor": 4
}
