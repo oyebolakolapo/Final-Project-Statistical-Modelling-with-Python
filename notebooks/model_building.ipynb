{
 "cells": [
  {
   "cell_type": "markdown",
   "metadata": {},
   "source": [
    "Build a regression model."
   ]
  },
  {
   "cell_type": "code",
   "execution_count": 1,
   "metadata": {},
   "outputs": [],
   "source": [
    "import pandas as pd\n",
    "import seaborn as sns\n",
    "import matplotlib.pyplot as plt\n",
    "import statsmodels.api as sm    "
   ]
  },
  {
   "cell_type": "markdown",
   "metadata": {},
   "source": [
    "Provide model output and an interpretation of the results. "
   ]
  },
  {
   "cell_type": "code",
   "execution_count": 21,
   "metadata": {},
   "outputs": [
    {
     "data": {
      "text/html": [
       "<div>\n",
       "<style scoped>\n",
       "    .dataframe tbody tr th:only-of-type {\n",
       "        vertical-align: middle;\n",
       "    }\n",
       "\n",
       "    .dataframe tbody tr th {\n",
       "        vertical-align: top;\n",
       "    }\n",
       "\n",
       "    .dataframe thead th {\n",
       "        text-align: right;\n",
       "    }\n",
       "</style>\n",
       "<table border=\"1\" class=\"dataframe\">\n",
       "  <thead>\n",
       "    <tr style=\"text-align: right;\">\n",
       "      <th></th>\n",
       "      <th>Average_rating_F</th>\n",
       "      <th>Average_dist_F</th>\n",
       "      <th>Average_popularity_F</th>\n",
       "      <th>Number of Bikes</th>\n",
       "    </tr>\n",
       "  </thead>\n",
       "  <tbody>\n",
       "    <tr>\n",
       "      <th>0</th>\n",
       "      <td>8.95</td>\n",
       "      <td>702.9</td>\n",
       "      <td>0.989557</td>\n",
       "      <td>14</td>\n",
       "    </tr>\n",
       "    <tr>\n",
       "      <th>1</th>\n",
       "      <td>8.66</td>\n",
       "      <td>779.8</td>\n",
       "      <td>0.980499</td>\n",
       "      <td>5</td>\n",
       "    </tr>\n",
       "    <tr>\n",
       "      <th>2</th>\n",
       "      <td>8.79</td>\n",
       "      <td>595.3</td>\n",
       "      <td>0.958578</td>\n",
       "      <td>0</td>\n",
       "    </tr>\n",
       "    <tr>\n",
       "      <th>3</th>\n",
       "      <td>9.22</td>\n",
       "      <td>725.0</td>\n",
       "      <td>0.988464</td>\n",
       "      <td>0</td>\n",
       "    </tr>\n",
       "    <tr>\n",
       "      <th>4</th>\n",
       "      <td>8.48</td>\n",
       "      <td>442.4</td>\n",
       "      <td>0.948420</td>\n",
       "      <td>8</td>\n",
       "    </tr>\n",
       "    <tr>\n",
       "      <th>...</th>\n",
       "      <td>...</td>\n",
       "      <td>...</td>\n",
       "      <td>...</td>\n",
       "      <td>...</td>\n",
       "    </tr>\n",
       "    <tr>\n",
       "      <th>417</th>\n",
       "      <td>9.17</td>\n",
       "      <td>675.2</td>\n",
       "      <td>0.989664</td>\n",
       "      <td>23</td>\n",
       "    </tr>\n",
       "    <tr>\n",
       "      <th>418</th>\n",
       "      <td>9.01</td>\n",
       "      <td>668.0</td>\n",
       "      <td>0.969746</td>\n",
       "      <td>3</td>\n",
       "    </tr>\n",
       "    <tr>\n",
       "      <th>419</th>\n",
       "      <td>9.25</td>\n",
       "      <td>541.2</td>\n",
       "      <td>0.988022</td>\n",
       "      <td>6</td>\n",
       "    </tr>\n",
       "    <tr>\n",
       "      <th>420</th>\n",
       "      <td>9.11</td>\n",
       "      <td>726.4</td>\n",
       "      <td>0.973419</td>\n",
       "      <td>10</td>\n",
       "    </tr>\n",
       "    <tr>\n",
       "      <th>421</th>\n",
       "      <td>9.11</td>\n",
       "      <td>726.4</td>\n",
       "      <td>0.973419</td>\n",
       "      <td>10</td>\n",
       "    </tr>\n",
       "  </tbody>\n",
       "</table>\n",
       "<p>422 rows × 4 columns</p>\n",
       "</div>"
      ],
      "text/plain": [
       "     Average_rating_F  Average_dist_F  Average_popularity_F  Number of Bikes\n",
       "0                8.95           702.9              0.989557               14\n",
       "1                8.66           779.8              0.980499                5\n",
       "2                8.79           595.3              0.958578                0\n",
       "3                9.22           725.0              0.988464                0\n",
       "4                8.48           442.4              0.948420                8\n",
       "..                ...             ...                   ...              ...\n",
       "417              9.17           675.2              0.989664               23\n",
       "418              9.01           668.0              0.969746                3\n",
       "419              9.25           541.2              0.988022                6\n",
       "420              9.11           726.4              0.973419               10\n",
       "421              9.11           726.4              0.973419               10\n",
       "\n",
       "[422 rows x 4 columns]"
      ]
     },
     "execution_count": 21,
     "metadata": {},
     "output_type": "execute_result"
    }
   ],
   "source": [
    "# Recall the file for the joined CSV file\n",
    "data_clean  = pd.read_csv(\"../Downloads/data_clean.csv\") \n",
    "data_clean "
   ]
  },
  {
   "cell_type": "code",
   "execution_count": 22,
   "metadata": {},
   "outputs": [
    {
     "data": {
      "text/html": [
       "<div>\n",
       "<style scoped>\n",
       "    .dataframe tbody tr th:only-of-type {\n",
       "        vertical-align: middle;\n",
       "    }\n",
       "\n",
       "    .dataframe tbody tr th {\n",
       "        vertical-align: top;\n",
       "    }\n",
       "\n",
       "    .dataframe thead th {\n",
       "        text-align: right;\n",
       "    }\n",
       "</style>\n",
       "<table border=\"1\" class=\"dataframe\">\n",
       "  <thead>\n",
       "    <tr style=\"text-align: right;\">\n",
       "      <th></th>\n",
       "      <th>Average_rating_F</th>\n",
       "      <th>Average_dist_F</th>\n",
       "      <th>Average_popularity_F</th>\n",
       "      <th>Number of Bikes</th>\n",
       "    </tr>\n",
       "  </thead>\n",
       "  <tbody>\n",
       "    <tr>\n",
       "      <th>Average_rating_F</th>\n",
       "      <td>1.000000</td>\n",
       "      <td>-0.029710</td>\n",
       "      <td>0.749818</td>\n",
       "      <td>0.011500</td>\n",
       "    </tr>\n",
       "    <tr>\n",
       "      <th>Average_dist_F</th>\n",
       "      <td>-0.029710</td>\n",
       "      <td>1.000000</td>\n",
       "      <td>-0.022423</td>\n",
       "      <td>-0.069532</td>\n",
       "    </tr>\n",
       "    <tr>\n",
       "      <th>Average_popularity_F</th>\n",
       "      <td>0.749818</td>\n",
       "      <td>-0.022423</td>\n",
       "      <td>1.000000</td>\n",
       "      <td>0.226050</td>\n",
       "    </tr>\n",
       "    <tr>\n",
       "      <th>Number of Bikes</th>\n",
       "      <td>0.011500</td>\n",
       "      <td>-0.069532</td>\n",
       "      <td>0.226050</td>\n",
       "      <td>1.000000</td>\n",
       "    </tr>\n",
       "  </tbody>\n",
       "</table>\n",
       "</div>"
      ],
      "text/plain": [
       "                      Average_rating_F  Average_dist_F  Average_popularity_F   \n",
       "Average_rating_F              1.000000       -0.029710              0.749818  \\\n",
       "Average_dist_F               -0.029710        1.000000             -0.022423   \n",
       "Average_popularity_F          0.749818       -0.022423              1.000000   \n",
       "Number of Bikes               0.011500       -0.069532              0.226050   \n",
       "\n",
       "                      Number of Bikes  \n",
       "Average_rating_F             0.011500  \n",
       "Average_dist_F              -0.069532  \n",
       "Average_popularity_F         0.226050  \n",
       "Number of Bikes              1.000000  "
      ]
     },
     "execution_count": 22,
     "metadata": {},
     "output_type": "execute_result"
    }
   ],
   "source": [
    "correlation_matrix = data_clean.corr(numeric_only=True)\n",
    "correlation_matrix   "
   ]
  },
  {
   "cell_type": "raw",
   "metadata": {},
   "source": [
    "#Caveat: Yelp API data requires revision but I ran out of API code so it wasn't included"
   ]
  },
  {
   "cell_type": "code",
   "execution_count": 23,
   "metadata": {},
   "outputs": [
    {
     "data": {
      "text/html": [
       "<div>\n",
       "<style scoped>\n",
       "    .dataframe tbody tr th:only-of-type {\n",
       "        vertical-align: middle;\n",
       "    }\n",
       "\n",
       "    .dataframe tbody tr th {\n",
       "        vertical-align: top;\n",
       "    }\n",
       "\n",
       "    .dataframe thead th {\n",
       "        text-align: right;\n",
       "    }\n",
       "</style>\n",
       "<table border=\"1\" class=\"dataframe\">\n",
       "  <thead>\n",
       "    <tr style=\"text-align: right;\">\n",
       "      <th></th>\n",
       "      <th>const</th>\n",
       "      <th>Average_rating_F</th>\n",
       "      <th>Average_dist_F</th>\n",
       "      <th>Average_popularity_F</th>\n",
       "    </tr>\n",
       "  </thead>\n",
       "  <tbody>\n",
       "    <tr>\n",
       "      <th>count</th>\n",
       "      <td>422.0</td>\n",
       "      <td>422.000000</td>\n",
       "      <td>422.000000</td>\n",
       "      <td>422.000000</td>\n",
       "    </tr>\n",
       "    <tr>\n",
       "      <th>mean</th>\n",
       "      <td>1.0</td>\n",
       "      <td>8.940877</td>\n",
       "      <td>676.959479</td>\n",
       "      <td>0.975643</td>\n",
       "    </tr>\n",
       "    <tr>\n",
       "      <th>std</th>\n",
       "      <td>0.0</td>\n",
       "      <td>0.366281</td>\n",
       "      <td>90.375833</td>\n",
       "      <td>0.019034</td>\n",
       "    </tr>\n",
       "    <tr>\n",
       "      <th>min</th>\n",
       "      <td>1.0</td>\n",
       "      <td>7.720000</td>\n",
       "      <td>425.800000</td>\n",
       "      <td>0.911584</td>\n",
       "    </tr>\n",
       "    <tr>\n",
       "      <th>25%</th>\n",
       "      <td>1.0</td>\n",
       "      <td>8.782500</td>\n",
       "      <td>615.475000</td>\n",
       "      <td>0.965722</td>\n",
       "    </tr>\n",
       "    <tr>\n",
       "      <th>50%</th>\n",
       "      <td>1.0</td>\n",
       "      <td>9.075000</td>\n",
       "      <td>680.450000</td>\n",
       "      <td>0.981341</td>\n",
       "    </tr>\n",
       "    <tr>\n",
       "      <th>75%</th>\n",
       "      <td>1.0</td>\n",
       "      <td>9.210000</td>\n",
       "      <td>743.600000</td>\n",
       "      <td>0.990727</td>\n",
       "    </tr>\n",
       "    <tr>\n",
       "      <th>max</th>\n",
       "      <td>1.0</td>\n",
       "      <td>9.350000</td>\n",
       "      <td>914.100000</td>\n",
       "      <td>0.998757</td>\n",
       "    </tr>\n",
       "  </tbody>\n",
       "</table>\n",
       "</div>"
      ],
      "text/plain": [
       "       const  Average_rating_F  Average_dist_F  Average_popularity_F\n",
       "count  422.0        422.000000      422.000000            422.000000\n",
       "mean     1.0          8.940877      676.959479              0.975643\n",
       "std      0.0          0.366281       90.375833              0.019034\n",
       "min      1.0          7.720000      425.800000              0.911584\n",
       "25%      1.0          8.782500      615.475000              0.965722\n",
       "50%      1.0          9.075000      680.450000              0.981341\n",
       "75%      1.0          9.210000      743.600000              0.990727\n",
       "max      1.0          9.350000      914.100000              0.998757"
      ]
     },
     "execution_count": 23,
     "metadata": {},
     "output_type": "execute_result"
    }
   ],
   "source": [
    "y = data_clean['Number of Bikes']\n",
    "X = data_clean[['Average_rating_F', 'Average_dist_F', 'Average_popularity_F']]\n",
    "X = sm.add_constant(X)  # adds a column of 1's for the intercept\n",
    "X.describe()                 "
   ]
  },
  {
   "cell_type": "code",
   "execution_count": 24,
   "metadata": {},
   "outputs": [],
   "source": [
    "model = sm.OLS(y, X)\n",
    "results = model.fit() #fit the model (this is where OLS is actually being run)       "
   ]
  },
  {
   "cell_type": "code",
   "execution_count": 27,
   "metadata": {},
   "outputs": [
    {
     "name": "stdout",
     "output_type": "stream",
     "text": [
      "                            OLS Regression Results                            \n",
      "==============================================================================\n",
      "Dep. Variable:        Number of Bikes   R-squared:                       0.113\n",
      "Model:                            OLS   Adj. R-squared:                  0.107\n",
      "Method:                 Least Squares   F-statistic:                     17.73\n",
      "Date:                Fri, 29 Sep 2023   Prob (F-statistic):           7.48e-11\n",
      "Time:                        23:31:26   Log-Likelihood:                -1344.0\n",
      "No. Observations:                 422   AIC:                             2696.\n",
      "Df Residuals:                     418   BIC:                             2712.\n",
      "Df Model:                           3                                         \n",
      "Covariance Type:            nonrobust                                         \n",
      "========================================================================================\n",
      "                           coef    std err          t      P>|t|      [0.025      0.975]\n",
      "----------------------------------------------------------------------------------------\n",
      "const                  -93.5034     16.057     -5.823      0.000    -125.067     -61.940\n",
      "Average_rating_F        -6.1584      1.182     -5.212      0.000      -8.481      -3.836\n",
      "Average_dist_F          -0.0048      0.003     -1.501      0.134      -0.011       0.001\n",
      "Average_popularity_F   162.1640     22.734      7.133      0.000     117.476     206.852\n",
      "==============================================================================\n",
      "Omnibus:                       41.995   Durbin-Watson:                   1.891\n",
      "Prob(Omnibus):                  0.000   Jarque-Bera (JB):               52.999\n",
      "Skew:                           0.868   Prob(JB):                     3.10e-12\n",
      "Kurtosis:                       2.983   Cond. No.                     6.48e+04\n",
      "==============================================================================\n",
      "\n",
      "Notes:\n",
      "[1] Standard Errors assume that the covariance matrix of the errors is correctly specified.\n",
      "[2] The condition number is large, 6.48e+04. This might indicate that there are\n",
      "strong multicollinearity or other numerical problems.\n"
     ]
    }
   ],
   "source": [
    "print(results.summary()) "
   ]
  },
  {
   "cell_type": "code",
   "execution_count": null,
   "metadata": {},
   "outputs": [],
   "source": [
    "# Interpretation Summary\n",
    "Overall, the model suggests that the characteristics of the points of interest(e.g.popularity and rating of bars and restaurants (do not have a strong correlation with the estimated Number of bikes available at a given station. "
   ]
  },
  {
   "cell_type": "code",
   "execution_count": 25,
   "metadata": {},
   "outputs": [
    {
     "data": {
      "image/png": "[encoded data removed]",
      "text/plain": [
       "<Figure size 640x480 with 1 Axes>"
      ]
     },
     "metadata": {},
     "output_type": "display_data"
    }
   ],
   "source": [
    "residuals = results.resid\n",
    "\n",
    "sns.histplot(residuals)\n",
    "plt.show()     "
   ]
  },
  {
   "cell_type": "code",
   "execution_count": 28,
   "metadata": {},
   "outputs": [
    {
     "data": {
      "text/plain": [
       "const                   -93.503370\n",
       "Average_rating_F         -6.158383\n",
       "Average_dist_F           -0.004757\n",
       "Average_popularity_F    162.163990\n",
       "dtype: float64"
      ]
     },
     "execution_count": 28,
     "metadata": {},
     "output_type": "execute_result"
    }
   ],
   "source": [
    "# To extract the co-efficients\n",
    "results.params      "
   ]
  },
  {
   "cell_type": "code",
   "execution_count": 33,
   "metadata": {},
   "outputs": [
    {
     "data": {
      "text/plain": [
       "8.852531728409"
      ]
     },
     "execution_count": 33,
     "metadata": {},
     "output_type": "execute_result"
    }
   ],
   "source": [
    "# The model equation for prediction is: number_of_bikes = b0 + b1*known_distance_F + b2*known_rating_F + b3*known_popularity_F\n",
    "b0 = results.params['const']\n",
    "b1 = results.params['Average_popularity_F']\n",
    "b2 = results.params['Average_rating_F']\n",
    "b3 = results.params['Average_dist_F']\n",
    "\n",
    "#For\n",
    "known_dist_F = 425.8\n",
    "known_rating_F = 9.35\n",
    "known_popularity_F = 0.998757\n",
    "predicted_num_bikes = b0 + b1*known_popularity_F + b2*known_rating_F + b3*known_dist_F\n",
    "predicted_num_bikes     "
   ]
  },
  {
   "cell_type": "code",
   "execution_count": 34,
   "metadata": {},
   "outputs": [
    {
     "data": {
      "text/plain": [
       "2.4314064019594728"
      ]
     },
     "execution_count": 34,
     "metadata": {},
     "output_type": "execute_result"
    }
   ],
   "source": [
    "# The model equation for prediction is: number_of_bikes = b0 + b1*known_distance_F + b2*known_rating_F + b3*known_popularity_F\n",
    "b0 = results.params['const']\n",
    "b1 = results.params['Average_popularity_F']\n",
    "b2 = results.params['Average_rating_F']\n",
    "b3 = results.params['Average_dist_F']\n",
    "\n",
    "#For\n",
    "known_dist_F = 914.10\n",
    "known_rating_F = 7.72\n",
    "known_popularity_F = 0.911584\n",
    "predicted_num_bikes = b0 + b1*known_popularity_F + b2*known_rating_F + b3*known_dist_F\n",
    "predicted_num_bikes      "
   ]
  },
  {
   "cell_type": "markdown",
   "metadata": {},
   "source": [
    "Overall, the model suggests that the characteristics of the points of interest(e.g.popularity and rating of bars and restaurants (do not have a strong correlation with the estimated Number of bikes available at a given station. \n",
    "\n",
    "However, it does appear that with a shorter average distance from highly rated and popular bars/restaurants within 1000m radius of the bike station, more bikes are available at the station. On the other hand, with lower ratings bars/restaurants around, fewer bikes are available at the bike station."
   ]
  },
  {
   "cell_type": "markdown",
   "metadata": {},
   "source": [
    "# Stretch"
   ]
  },
  {
   "cell_type": "markdown",
   "metadata": {},
   "source": [
    "How can you turn the regression model into a classification model?"
   ]
  },
  {
   "cell_type": "code",
   "execution_count": null,
   "metadata": {},
   "outputs": [],
   "source": [
    "We can classify independent variables, rating and popularity, into good, high or very high based on 1-10 scales."
   ]
  }
 ],
 "metadata": {
  "kernelspec": {
   "display_name": "Python 3 (ipykernel)",
   "language": "python",
   "name": "python3"
  },
  "language_info": {
   "codemirror_mode": {
    "name": "ipython",
    "version": 3
   },
   "file_extension": ".py",
   "mimetype": "text/x-python",
   "name": "python",
   "nbconvert_exporter": "python",
   "pygments_lexer": "ipython3",
   "version": "3.9.18"
  }
 },
 "nbformat": 4,
 "nbformat_minor": 4
}
